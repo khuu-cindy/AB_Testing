{
 "cells": [
  {
   "cell_type": "markdown",
   "metadata": {},
   "source": [
    "# E-Commerce A/B Testing using Kaggle Dataset\n",
    "\n",
    "## Introduction:\n",
    "\n",
    "A/B Testing is a common technique to compare two or more different groups who have a different version or change in order to determine which version or change performs better. This is also called experimentation which is helpful when testing new products, web pages, marketing tactics, user functionalities and more. In this notebook, I want to evaluate conversion results from an E-Commerce experimentation comparing an old page and a new page. Overall goal is to understand if there the organization should keep the old page or if there's signficant evidence to implement the new page. This data set is from [Kaggle](https://www.kaggle.com/datasets/ahmedmohameddawoud/ecommerce-ab-testing). "
   ]
  },
  {
   "cell_type": "code",
   "execution_count": 169,
   "metadata": {},
   "outputs": [],
   "source": [
    "# Packages\n",
    "\n",
    "# Basic \n",
    "import numpy as np \n",
    "import pandas as pd\n",
    "import warnings\n",
    "warnings.filterwarnings('ignore')\n",
    "\n",
    "# Visualizations\n",
    "import matplotlib.pyplot as plt\n",
    "import seaborn as sns\n",
    "\n",
    "\n",
    "# Statistics/Math\n",
    "import scipy.stats as stats\n",
    "import statsmodels.stats.api as sms\n",
    "from math import ceil\n",
    "import random "
   ]
  },
  {
   "cell_type": "markdown",
   "metadata": {},
   "source": [
    "## 1. Design Experiment\n",
    "\n",
    "### Assumptions\n",
    "- Random sampling: sample must be taken randomly\n",
    "- Independence: each observation must be independent\n",
    "- Normally distributed: sample data must be normally distributed around the sample mean, which naturally occurs in large samples due to central limit theorm\n",
    "- Constant Variance: variance between sample and population must be constant\n",
    "\n",
    "### Formulate Hypothesis\n",
    "I want to prove if there's an impact in converting users with the new page, but this impact can be negative or positive compared to the current \"old design\". Therefore, I can use a two-tailed test with alpha threshold set to 0.05 with a confidence interval of 95%. \n",
    "\n",
    "**$H_{0}$**: **$p_{old}$** = **$p_{new}$**\n",
    "\n",
    "**$H_{1}$**: **$p_{old}$** !=  **$p_{new}$**\n",
    "\n",
    "If the results have a p-value (probability of observing a change in the result) less than alpha = 0.05, then I will reject the null hypothesis. Rejecting the null hypothesis at alpha 0.05 means that I am 95% confident that the conversion rate observed in this test is statistically significant and different from the old design. \n",
    "\n",
    "### Defining Metrics/Variables\n",
    "- Control group is shown the old page design\n",
    "- Treatment group is shown new page design\n",
    "- Conversion is a binary column where 1 represents user converted and 0 represents they didn't convert. This will be used to calculate conversion rate for both groups. \n",
    "\n",
    "Based on the data, my \"dependent variable\" will be conversion since it's the primary metric of focus. My \"independent variable\" will be the group since this contains our specified two groups where a change occurred, and I should see a resulting change in the dependent variable if there was an effect between new page and old page. \n",
    "\n",
    "### Determining Sample Size\n",
    "The control group and treatment groups are considered samples, which will help derive an estimate of the conversion rate for the true populuation. Therefore, I need to determine the right sample size for each group in order to detect a change or effect if there is one during the experiment. Three parameters are needed to determine sample size: \n",
    "- Power of the test (1 - Beta) or Type 2 error: Beta is usually set at 0.2, so power of test is usually set at 0.8. Power is the probability of finding a statistically significant result when the Null Hypothesis is false. Therefore, there's 80% chance for us to detect a statisically significant results with determined sample size. \n",
    "- Significance level or alpha: This has been established as 0.05. \n",
    "- Minimum detectable effect or effect size: This is the magnitude of the difference in conversion rate expected between the two groups. Business will usually define this. On average, conversion rate is 12%, but a 3% increase in conversion rate will be a meaningful change for the new page design to be successful. "
   ]
  },
  {
   "cell_type": "code",
   "execution_count": 170,
   "metadata": {},
   "outputs": [
    {
     "name": "stdout",
     "output_type": "stream",
     "text": [
      "Required minimum sample size for each group: 4720\n"
     ]
    }
   ],
   "source": [
    "# Standarize the effect of conversion rate increase from 13% to 15% (2% increase)\n",
    "std_effect_size = sms.proportion_effectsize(0.13, 0.15)  \n",
    "\n",
    "# Calculate desired sample size using power analysis\n",
    "desired_sample_size = sms.zt_ind_solve_power(effect_size=std_effect_size, nobs1=None, alpha = 0.05, power = 0.80)\n",
    "\n",
    "# Convert as integer\n",
    "desired_sample_size = ceil(desired_sample_size)\n",
    "print(f'Required minimum sample size for each group: {desired_sample_size}')"
   ]
  },
  {
   "cell_type": "markdown",
   "metadata": {},
   "source": [
    "## 2. Data Preparation/Collection\n",
    "\n",
    "Data from experiment has been collected and provided in a cvs file called \"ab_data.csv\". Next, I'll want to import the data, evaluate if test groups were treated correctly, check for data integrity, and cleanse data if needed (i.e. missing values, outliers). Then, I will want to sample from the dataset the desired sample size that I calculated. "
   ]
  },
  {
   "cell_type": "code",
   "execution_count": 171,
   "metadata": {},
   "outputs": [
    {
     "data": {
      "text/html": [
       "<div>\n",
       "<style scoped>\n",
       "    .dataframe tbody tr th:only-of-type {\n",
       "        vertical-align: middle;\n",
       "    }\n",
       "\n",
       "    .dataframe tbody tr th {\n",
       "        vertical-align: top;\n",
       "    }\n",
       "\n",
       "    .dataframe thead th {\n",
       "        text-align: right;\n",
       "    }\n",
       "</style>\n",
       "<table border=\"1\" class=\"dataframe\">\n",
       "  <thead>\n",
       "    <tr style=\"text-align: right;\">\n",
       "      <th></th>\n",
       "      <th>user_id</th>\n",
       "      <th>timestamp</th>\n",
       "      <th>group</th>\n",
       "      <th>landing_page</th>\n",
       "      <th>converted</th>\n",
       "    </tr>\n",
       "  </thead>\n",
       "  <tbody>\n",
       "    <tr>\n",
       "      <th>0</th>\n",
       "      <td>851104</td>\n",
       "      <td>2017-01-21 22:11:48.556739</td>\n",
       "      <td>control</td>\n",
       "      <td>old_page</td>\n",
       "      <td>0</td>\n",
       "    </tr>\n",
       "    <tr>\n",
       "      <th>1</th>\n",
       "      <td>804228</td>\n",
       "      <td>2017-01-12 08:01:45.159739</td>\n",
       "      <td>control</td>\n",
       "      <td>old_page</td>\n",
       "      <td>0</td>\n",
       "    </tr>\n",
       "    <tr>\n",
       "      <th>2</th>\n",
       "      <td>661590</td>\n",
       "      <td>2017-01-11 16:55:06.154213</td>\n",
       "      <td>treatment</td>\n",
       "      <td>new_page</td>\n",
       "      <td>0</td>\n",
       "    </tr>\n",
       "    <tr>\n",
       "      <th>3</th>\n",
       "      <td>853541</td>\n",
       "      <td>2017-01-08 18:28:03.143765</td>\n",
       "      <td>treatment</td>\n",
       "      <td>new_page</td>\n",
       "      <td>0</td>\n",
       "    </tr>\n",
       "    <tr>\n",
       "      <th>4</th>\n",
       "      <td>864975</td>\n",
       "      <td>2017-01-21 01:52:26.210827</td>\n",
       "      <td>control</td>\n",
       "      <td>old_page</td>\n",
       "      <td>1</td>\n",
       "    </tr>\n",
       "  </tbody>\n",
       "</table>\n",
       "</div>"
      ],
      "text/plain": [
       "   user_id                   timestamp      group landing_page  converted\n",
       "0   851104  2017-01-21 22:11:48.556739    control     old_page          0\n",
       "1   804228  2017-01-12 08:01:45.159739    control     old_page          0\n",
       "2   661590  2017-01-11 16:55:06.154213  treatment     new_page          0\n",
       "3   853541  2017-01-08 18:28:03.143765  treatment     new_page          0\n",
       "4   864975  2017-01-21 01:52:26.210827    control     old_page          1"
      ]
     },
     "execution_count": 171,
     "metadata": {},
     "output_type": "execute_result"
    }
   ],
   "source": [
    "# Read the csv file as a dataframe\n",
    "df = pd.read_csv(\"ab_data.csv\")\n",
    "df.head()"
   ]
  },
  {
   "cell_type": "code",
   "execution_count": 172,
   "metadata": {},
   "outputs": [
    {
     "name": "stdout",
     "output_type": "stream",
     "text": [
      "<class 'pandas.core.frame.DataFrame'>\n",
      "RangeIndex: 294478 entries, 0 to 294477\n",
      "Data columns (total 5 columns):\n",
      " #   Column        Non-Null Count   Dtype \n",
      "---  ------        --------------   ----- \n",
      " 0   user_id       294478 non-null  int64 \n",
      " 1   timestamp     294478 non-null  object\n",
      " 2   group         294478 non-null  object\n",
      " 3   landing_page  294478 non-null  object\n",
      " 4   converted     294478 non-null  int64 \n",
      "dtypes: int64(2), object(3)\n",
      "memory usage: 11.2+ MB\n"
     ]
    }
   ],
   "source": [
    "# Preview general info \n",
    "df.info()"
   ]
  },
  {
   "cell_type": "code",
   "execution_count": 173,
   "metadata": {},
   "outputs": [
    {
     "name": "stdout",
     "output_type": "stream",
     "text": [
      "Number of rows in data: 294478\n"
     ]
    }
   ],
   "source": [
    "print(f'Number of rows in data: {df.shape[0]}')"
   ]
  },
  {
   "cell_type": "code",
   "execution_count": 174,
   "metadata": {},
   "outputs": [
    {
     "name": "stdout",
     "output_type": "stream",
     "text": [
      "Number of unique user_id: 290584\n"
     ]
    }
   ],
   "source": [
    "print(f'Number of unique user_id: {df.user_id.nunique()}')"
   ]
  },
  {
   "cell_type": "code",
   "execution_count": 175,
   "metadata": {},
   "outputs": [
    {
     "name": "stdout",
     "output_type": "stream",
     "text": [
      "Identified: 3894 number of users with muliple sessions\n"
     ]
    }
   ],
   "source": [
    "# Check duplicate user_id\n",
    "session_by_user = df.user_id.value_counts(ascending = False)\n",
    "mulitple_session_user = session_by_user[session_by_user >1].count()\n",
    "print(f'Identified: {mulitple_session_user} number of users with muliple sessions')"
   ]
  },
  {
   "cell_type": "code",
   "execution_count": 176,
   "metadata": {},
   "outputs": [],
   "source": [
    "# Find user_ids with multiple sessions\n",
    "mulitple_session_user_ids = session_by_user[session_by_user > 1].index\n",
    "\n",
    "# Filter out user_ids with multiple sessions\n",
    "df = df[~df['user_id'].isin(mulitple_session_user_ids)]"
   ]
  },
  {
   "cell_type": "code",
   "execution_count": 177,
   "metadata": {},
   "outputs": [
    {
     "name": "stdout",
     "output_type": "stream",
     "text": [
      "After remove users with multiple sessions, new dataframe has \" 286690 records\n"
     ]
    }
   ],
   "source": [
    "print(f'After remove users with multiple sessions, new dataframe has \" {df.shape[0]} records')\n"
   ]
  },
  {
   "cell_type": "code",
   "execution_count": 178,
   "metadata": {},
   "outputs": [
    {
     "data": {
      "text/plain": [
       "user_id         0\n",
       "timestamp       0\n",
       "group           0\n",
       "landing_page    0\n",
       "converted       0\n",
       "dtype: int64"
      ]
     },
     "execution_count": 178,
     "metadata": {},
     "output_type": "execute_result"
    }
   ],
   "source": [
    "# Check for missing values\n",
    "df.isna().sum()"
   ]
  },
  {
   "cell_type": "code",
   "execution_count": 179,
   "metadata": {},
   "outputs": [
    {
     "data": {
      "text/html": [
       "<div>\n",
       "<style scoped>\n",
       "    .dataframe tbody tr th:only-of-type {\n",
       "        vertical-align: middle;\n",
       "    }\n",
       "\n",
       "    .dataframe tbody tr th {\n",
       "        vertical-align: top;\n",
       "    }\n",
       "\n",
       "    .dataframe thead th {\n",
       "        text-align: right;\n",
       "    }\n",
       "</style>\n",
       "<table border=\"1\" class=\"dataframe\">\n",
       "  <thead>\n",
       "    <tr style=\"text-align: right;\">\n",
       "      <th>group</th>\n",
       "      <th>control</th>\n",
       "      <th>treatment</th>\n",
       "      <th>All</th>\n",
       "    </tr>\n",
       "    <tr>\n",
       "      <th>landing_page</th>\n",
       "      <th></th>\n",
       "      <th></th>\n",
       "      <th></th>\n",
       "    </tr>\n",
       "  </thead>\n",
       "  <tbody>\n",
       "    <tr>\n",
       "      <th>new_page</th>\n",
       "      <td>NaN</td>\n",
       "      <td>143397.0</td>\n",
       "      <td>143397</td>\n",
       "    </tr>\n",
       "    <tr>\n",
       "      <th>old_page</th>\n",
       "      <td>143293.0</td>\n",
       "      <td>NaN</td>\n",
       "      <td>143293</td>\n",
       "    </tr>\n",
       "    <tr>\n",
       "      <th>All</th>\n",
       "      <td>143293.0</td>\n",
       "      <td>143397.0</td>\n",
       "      <td>286690</td>\n",
       "    </tr>\n",
       "  </tbody>\n",
       "</table>\n",
       "</div>"
      ],
      "text/plain": [
       "group          control  treatment     All\n",
       "landing_page                             \n",
       "new_page           NaN   143397.0  143397\n",
       "old_page      143293.0        NaN  143293\n",
       "All           143293.0   143397.0  286690"
      ]
     },
     "execution_count": 179,
     "metadata": {},
     "output_type": "execute_result"
    }
   ],
   "source": [
    "# Evaluate control and treatment groups were given correct pages\n",
    "df.pivot_table( values = 'user_id', index= 'landing_page', columns= 'group' , aggfunc={'user_id':len}, margins= True)"
   ]
  },
  {
   "cell_type": "markdown",
   "metadata": {},
   "source": [
    "Each row of the dataset represents a user_id that visited the webpage that was separated into two groups. The total records from the data file include 294,478 records, but only 290,584 unique user_id. Therefore, there were user that had multiple sessions, which need to be dropped. After remove user ids with multiple sessions, there appears to be no missing values and no mismatches bewteen groups and expected landing page. "
   ]
  },
  {
   "cell_type": "code",
   "execution_count": 180,
   "metadata": {},
   "outputs": [
    {
     "data": {
      "text/html": [
       "<div>\n",
       "<style scoped>\n",
       "    .dataframe tbody tr th:only-of-type {\n",
       "        vertical-align: middle;\n",
       "    }\n",
       "\n",
       "    .dataframe tbody tr th {\n",
       "        vertical-align: top;\n",
       "    }\n",
       "\n",
       "    .dataframe thead th {\n",
       "        text-align: right;\n",
       "    }\n",
       "</style>\n",
       "<table border=\"1\" class=\"dataframe\">\n",
       "  <thead>\n",
       "    <tr style=\"text-align: right;\">\n",
       "      <th>group</th>\n",
       "      <th>control</th>\n",
       "      <th>treatment</th>\n",
       "      <th>All</th>\n",
       "    </tr>\n",
       "    <tr>\n",
       "      <th>landing_page</th>\n",
       "      <th></th>\n",
       "      <th></th>\n",
       "      <th></th>\n",
       "    </tr>\n",
       "  </thead>\n",
       "  <tbody>\n",
       "    <tr>\n",
       "      <th>new_page</th>\n",
       "      <td>NaN</td>\n",
       "      <td>143397.0</td>\n",
       "      <td>143397</td>\n",
       "    </tr>\n",
       "    <tr>\n",
       "      <th>old_page</th>\n",
       "      <td>143293.0</td>\n",
       "      <td>NaN</td>\n",
       "      <td>143293</td>\n",
       "    </tr>\n",
       "    <tr>\n",
       "      <th>All</th>\n",
       "      <td>143293.0</td>\n",
       "      <td>143397.0</td>\n",
       "      <td>286690</td>\n",
       "    </tr>\n",
       "  </tbody>\n",
       "</table>\n",
       "</div>"
      ],
      "text/plain": [
       "group          control  treatment     All\n",
       "landing_page                             \n",
       "new_page           NaN   143397.0  143397\n",
       "old_page      143293.0        NaN  143293\n",
       "All           143293.0   143397.0  286690"
      ]
     },
     "execution_count": 180,
     "metadata": {},
     "output_type": "execute_result"
    }
   ],
   "source": [
    "# In the case there were mismatches, I can simply filter out the mismatches using the conditions below: \n",
    "df_clean = df[((df['group'] == 'treatment') & (df['landing_page'] == 'new_page')) \n",
    "             |((df['group'] == 'control') & (df['landing_page'] == 'old_page')) ]\n",
    "\n",
    "df_clean.pivot_table( values = 'user_id', index= 'landing_page', columns= 'group' , aggfunc={'user_id':len}, margins= True)"
   ]
  },
  {
   "cell_type": "code",
   "execution_count": 181,
   "metadata": {},
   "outputs": [
    {
     "data": {
      "text/plain": [
       "11.944957968537445"
      ]
     },
     "execution_count": 181,
     "metadata": {},
     "output_type": "execute_result"
    }
   ],
   "source": [
    "df.converted.mean() * 100"
   ]
  },
  {
   "cell_type": "code",
   "execution_count": 182,
   "metadata": {},
   "outputs": [
    {
     "data": {
      "text/html": [
       "<div>\n",
       "<style scoped>\n",
       "    .dataframe tbody tr th:only-of-type {\n",
       "        vertical-align: middle;\n",
       "    }\n",
       "\n",
       "    .dataframe tbody tr th {\n",
       "        vertical-align: top;\n",
       "    }\n",
       "\n",
       "    .dataframe thead th {\n",
       "        text-align: right;\n",
       "    }\n",
       "</style>\n",
       "<table border=\"1\" class=\"dataframe\">\n",
       "  <thead>\n",
       "    <tr style=\"text-align: right;\">\n",
       "      <th></th>\n",
       "      <th>user_id</th>\n",
       "      <th>converted</th>\n",
       "    </tr>\n",
       "    <tr>\n",
       "      <th>group</th>\n",
       "      <th></th>\n",
       "      <th></th>\n",
       "    </tr>\n",
       "  </thead>\n",
       "  <tbody>\n",
       "    <tr>\n",
       "      <th>control</th>\n",
       "      <td>7.881660e+07</td>\n",
       "      <td>12.017335</td>\n",
       "    </tr>\n",
       "    <tr>\n",
       "      <th>treatment</th>\n",
       "      <td>7.879071e+07</td>\n",
       "      <td>11.872633</td>\n",
       "    </tr>\n",
       "  </tbody>\n",
       "</table>\n",
       "</div>"
      ],
      "text/plain": [
       "                user_id  converted\n",
       "group                             \n",
       "control    7.881660e+07  12.017335\n",
       "treatment  7.879071e+07  11.872633"
      ]
     },
     "execution_count": 182,
     "metadata": {},
     "output_type": "execute_result"
    }
   ],
   "source": [
    "#Given that an individual was in the control group, what is the probability they converted?\n",
    "#Given that an individual was in the treatment group, what is the probability they converted?\n",
    "\n",
    "df.groupby(\"group\").mean() * 100"
   ]
  },
  {
   "cell_type": "markdown",
   "metadata": {},
   "source": [
    "## Sampling \n",
    "\n",
    "Randomly sample desires sample size for each group based on what was previously calculated. "
   ]
  },
  {
   "cell_type": "code",
   "execution_count": 183,
   "metadata": {},
   "outputs": [],
   "source": [
    "# Random Sampling\n",
    "control_sample = df[df['group'] == 'control'].sample(n=desired_sample_size, random_state=888)\n",
    "treatment_sample = df[df['group'] == 'treatment'].sample(n=desired_sample_size, random_state=888)\n",
    "\n",
    "ab_test_samples = pd.concat([control_sample, treatment_sample], axis=0)\n",
    "ab_test_samples.reset_index(drop=True, inplace=True)\n"
   ]
  },
  {
   "cell_type": "code",
   "execution_count": 184,
   "metadata": {},
   "outputs": [
    {
     "data": {
      "text/html": [
       "<div>\n",
       "<style scoped>\n",
       "    .dataframe tbody tr th:only-of-type {\n",
       "        vertical-align: middle;\n",
       "    }\n",
       "\n",
       "    .dataframe tbody tr th {\n",
       "        vertical-align: top;\n",
       "    }\n",
       "\n",
       "    .dataframe thead th {\n",
       "        text-align: right;\n",
       "    }\n",
       "</style>\n",
       "<table border=\"1\" class=\"dataframe\">\n",
       "  <thead>\n",
       "    <tr style=\"text-align: right;\">\n",
       "      <th></th>\n",
       "      <th>user_id</th>\n",
       "      <th>timestamp</th>\n",
       "      <th>group</th>\n",
       "      <th>landing_page</th>\n",
       "      <th>converted</th>\n",
       "    </tr>\n",
       "  </thead>\n",
       "  <tbody>\n",
       "    <tr>\n",
       "      <th>0</th>\n",
       "      <td>754867</td>\n",
       "      <td>2017-01-20 22:38:09.303080</td>\n",
       "      <td>control</td>\n",
       "      <td>old_page</td>\n",
       "      <td>0</td>\n",
       "    </tr>\n",
       "    <tr>\n",
       "      <th>1</th>\n",
       "      <td>702362</td>\n",
       "      <td>2017-01-19 02:51:29.458335</td>\n",
       "      <td>control</td>\n",
       "      <td>old_page</td>\n",
       "      <td>0</td>\n",
       "    </tr>\n",
       "    <tr>\n",
       "      <th>2</th>\n",
       "      <td>685542</td>\n",
       "      <td>2017-01-04 21:02:17.554100</td>\n",
       "      <td>control</td>\n",
       "      <td>old_page</td>\n",
       "      <td>0</td>\n",
       "    </tr>\n",
       "    <tr>\n",
       "      <th>3</th>\n",
       "      <td>757360</td>\n",
       "      <td>2017-01-19 23:31:07.851923</td>\n",
       "      <td>control</td>\n",
       "      <td>old_page</td>\n",
       "      <td>0</td>\n",
       "    </tr>\n",
       "    <tr>\n",
       "      <th>4</th>\n",
       "      <td>889217</td>\n",
       "      <td>2017-01-16 05:08:50.804498</td>\n",
       "      <td>control</td>\n",
       "      <td>old_page</td>\n",
       "      <td>0</td>\n",
       "    </tr>\n",
       "    <tr>\n",
       "      <th>...</th>\n",
       "      <td>...</td>\n",
       "      <td>...</td>\n",
       "      <td>...</td>\n",
       "      <td>...</td>\n",
       "      <td>...</td>\n",
       "    </tr>\n",
       "    <tr>\n",
       "      <th>9435</th>\n",
       "      <td>663186</td>\n",
       "      <td>2017-01-12 19:21:57.769472</td>\n",
       "      <td>treatment</td>\n",
       "      <td>new_page</td>\n",
       "      <td>0</td>\n",
       "    </tr>\n",
       "    <tr>\n",
       "      <th>9436</th>\n",
       "      <td>697047</td>\n",
       "      <td>2017-01-13 02:32:25.839903</td>\n",
       "      <td>treatment</td>\n",
       "      <td>new_page</td>\n",
       "      <td>0</td>\n",
       "    </tr>\n",
       "    <tr>\n",
       "      <th>9437</th>\n",
       "      <td>682044</td>\n",
       "      <td>2017-01-05 05:28:52.436273</td>\n",
       "      <td>treatment</td>\n",
       "      <td>new_page</td>\n",
       "      <td>0</td>\n",
       "    </tr>\n",
       "    <tr>\n",
       "      <th>9438</th>\n",
       "      <td>728014</td>\n",
       "      <td>2017-01-21 12:55:55.633607</td>\n",
       "      <td>treatment</td>\n",
       "      <td>new_page</td>\n",
       "      <td>1</td>\n",
       "    </tr>\n",
       "    <tr>\n",
       "      <th>9439</th>\n",
       "      <td>638369</td>\n",
       "      <td>2017-01-05 22:22:06.372413</td>\n",
       "      <td>treatment</td>\n",
       "      <td>new_page</td>\n",
       "      <td>0</td>\n",
       "    </tr>\n",
       "  </tbody>\n",
       "</table>\n",
       "<p>9440 rows × 5 columns</p>\n",
       "</div>"
      ],
      "text/plain": [
       "      user_id                   timestamp      group landing_page  converted\n",
       "0      754867  2017-01-20 22:38:09.303080    control     old_page          0\n",
       "1      702362  2017-01-19 02:51:29.458335    control     old_page          0\n",
       "2      685542  2017-01-04 21:02:17.554100    control     old_page          0\n",
       "3      757360  2017-01-19 23:31:07.851923    control     old_page          0\n",
       "4      889217  2017-01-16 05:08:50.804498    control     old_page          0\n",
       "...       ...                         ...        ...          ...        ...\n",
       "9435   663186  2017-01-12 19:21:57.769472  treatment     new_page          0\n",
       "9436   697047  2017-01-13 02:32:25.839903  treatment     new_page          0\n",
       "9437   682044  2017-01-05 05:28:52.436273  treatment     new_page          0\n",
       "9438   728014  2017-01-21 12:55:55.633607  treatment     new_page          1\n",
       "9439   638369  2017-01-05 22:22:06.372413  treatment     new_page          0\n",
       "\n",
       "[9440 rows x 5 columns]"
      ]
     },
     "execution_count": 184,
     "metadata": {},
     "output_type": "execute_result"
    }
   ],
   "source": [
    "ab_test_samples"
   ]
  },
  {
   "cell_type": "code",
   "execution_count": 185,
   "metadata": {},
   "outputs": [
    {
     "data": {
      "text/plain": [
       "treatment    4720\n",
       "control      4720\n",
       "Name: group, dtype: int64"
      ]
     },
     "execution_count": 185,
     "metadata": {},
     "output_type": "execute_result"
    }
   ],
   "source": [
    "# Preview sample count in each group\n",
    "ab_test_samples.group.value_counts()"
   ]
  },
  {
   "cell_type": "markdown",
   "metadata": {},
   "source": [
    "## 3. Visualizing Test Results\n",
    "\n",
    "I'll calculate some statistics on both groups for conversion rate."
   ]
  },
  {
   "cell_type": "code",
   "execution_count": 186,
   "metadata": {},
   "outputs": [
    {
     "data": {
      "text/html": [
       "<div>\n",
       "<style scoped>\n",
       "    .dataframe tbody tr th:only-of-type {\n",
       "        vertical-align: middle;\n",
       "    }\n",
       "\n",
       "    .dataframe tbody tr th {\n",
       "        vertical-align: top;\n",
       "    }\n",
       "\n",
       "    .dataframe thead th {\n",
       "        text-align: right;\n",
       "    }\n",
       "</style>\n",
       "<table border=\"1\" class=\"dataframe\">\n",
       "  <thead>\n",
       "    <tr style=\"text-align: right;\">\n",
       "      <th></th>\n",
       "      <th>conversion_rate</th>\n",
       "      <th>std_deviation</th>\n",
       "      <th>std_error</th>\n",
       "    </tr>\n",
       "    <tr>\n",
       "      <th>group</th>\n",
       "      <th></th>\n",
       "      <th></th>\n",
       "      <th></th>\n",
       "    </tr>\n",
       "  </thead>\n",
       "  <tbody>\n",
       "    <tr>\n",
       "      <th>control</th>\n",
       "      <td>0.12161</td>\n",
       "      <td>0.326835</td>\n",
       "      <td>0.004757</td>\n",
       "    </tr>\n",
       "    <tr>\n",
       "      <th>treatment</th>\n",
       "      <td>0.12500</td>\n",
       "      <td>0.330719</td>\n",
       "      <td>0.004814</td>\n",
       "    </tr>\n",
       "  </tbody>\n",
       "</table>\n",
       "</div>"
      ],
      "text/plain": [
       "           conversion_rate  std_deviation  std_error\n",
       "group                                               \n",
       "control            0.12161       0.326835   0.004757\n",
       "treatment          0.12500       0.330719   0.004814"
      ]
     },
     "execution_count": 186,
     "metadata": {},
     "output_type": "execute_result"
    }
   ],
   "source": [
    "conversion_rates = ab_test_samples.groupby('group')['converted']\n",
    "\n",
    "# Standard deviation of the proportion\n",
    "std_dev_proportion = lambda x: np.std(x, ddof=0)\n",
    "\n",
    "# Standard error of the proporation \n",
    "std_error_proportion = lambda x: stats.sem(x, ddof=0)\n",
    "\n",
    "# Apply functions to conversion_rates\n",
    "conversion_rates = conversion_rates.agg([np.mean, std_dev_proportion, std_error_proportion])\n",
    "conversion_rates.columns = ['conversion_rate', 'std_deviation', 'std_error']\n",
    "\n",
    "# Display up to three decimal points conversion rates statistics\n",
    "conversion_rates"
   ]
  },
  {
   "cell_type": "markdown",
   "metadata": {},
   "source": [
    "Both groups appear to have similar conversion rates with control at 12.2% and treatment slightly higher at 12.5%. "
   ]
  },
  {
   "cell_type": "code",
   "execution_count": 196,
   "metadata": {},
   "outputs": [
    {
     "data": {
      "image/png": "[encoded data removed]",
      "text/plain": [
       "<Figure size 576x576 with 1 Axes>"
      ]
     },
     "metadata": {},
     "output_type": "display_data"
    }
   ],
   "source": [
    "plt.figure(figsize=(8,8))\n",
    "sns.set_style('white')\n",
    "sns.barplot(x= ab_test_samples.group, y=ab_test_samples.converted, ci=False)\n",
    "plt.ylim(0,.16)\n",
    "plt.title('Conversion Rate - Control vs Treatment Group')\n",
    "plt.ylabel('Conversion Rate')\n",
    "plt.xlabel('Group')\n",
    "plt.show()"
   ]
  },
  {
   "cell_type": "markdown",
   "metadata": {},
   "source": [
    "## 4. Test Results and Hypothesis\n",
    "Calculate the z-statistic and pvalue of the test results to determine whether or not to reject the Null Hypothesis. "
   ]
  },
  {
   "cell_type": "code",
   "execution_count": 197,
   "metadata": {},
   "outputs": [],
   "source": [
    "from statsmodels.stats.proportion import proportions_ztest, proportion_confint\n",
    "\n",
    "control_results = ab_test_samples[ab_test_samples['group']== 'control']['converted']\n",
    "treatment_results = ab_test_samples[ab_test_samples['group']== 'treatment']['converted']"
   ]
  },
  {
   "cell_type": "code",
   "execution_count": 198,
   "metadata": {},
   "outputs": [],
   "source": [
    "n_size_control = control_results.count()\n",
    "n_size_treatment = treatment_results.count()\n",
    "n_size_total = [n_size_control , n_size_treatment]\n",
    "\n",
    "converted_successes = [control_results.sum(), treatment_results.sum()]\n",
    "\n",
    "# Calculate z-statistic and pvalue \n",
    "z_stat, pval = proportions_ztest(converted_successes, nobs = n_size_total)\n",
    "\n",
    "# Calcualte confidence interval \n",
    "(lower_control, lower_treat), (upper_control, upper_treat) = proportion_confint(converted_successes, nobs = n_size_total, alpha = 0.05)"
   ]
  },
  {
   "cell_type": "code",
   "execution_count": 199,
   "metadata": {},
   "outputs": [
    {
     "name": "stdout",
     "output_type": "stream",
     "text": [
      "z statistic: -0.50\n",
      "p-value: 0.616\n",
      "ci 95% for control group: [0.112, 0.131]\n",
      "ci 95% for treatment group: [0.116, 0.134]\n"
     ]
    }
   ],
   "source": [
    "print(f'z statistic: {z_stat:.2f}')\n",
    "print(f'p-value: {pval:.3f}')\n",
    "print(f'ci 95% for control group: [{lower_control:.3f}, {upper_control:.3f}]')\n",
    "print(f'ci 95% for treatment group: [{lower_treat:.3f}, {upper_treat:.3f}]')"
   ]
  },
  {
   "cell_type": "markdown",
   "metadata": {},
   "source": [
    "Based on p-value of 0.616 and our alpha threshold of 0.05, there's not enough evidence to suggest there was a significant change in conversion rates between the new page and old page. Therefore, I failed to reject the Null Hypothesis, which concules that the new page design did not show significant change to conversion compared to old page. "
   ]
  }
 ],
 "metadata": {
  "kernelspec": {
   "display_name": "Python 3.7.1 ('ds4b_101p')",
   "language": "python",
   "name": "python3"
  },
  "language_info": {
   "codemirror_mode": {
    "name": "ipython",
    "version": 3
   },
   "file_extension": ".py",
   "mimetype": "text/x-python",
   "name": "python",
   "nbconvert_exporter": "python",
   "pygments_lexer": "ipython3",
   "version": "3.7.1"
  },
  "orig_nbformat": 4,
  "vscode": {
   "interpreter": {
    "hash": "b5f8aad341d3767e2bbdf49899c63c3a246ecfb82d819c4866bdb73393d6bd1f"
   }
  }
 },
 "nbformat": 4,
 "nbformat_minor": 2
}
